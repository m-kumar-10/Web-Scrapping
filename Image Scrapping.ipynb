{
 "cells": [
  {
   "cell_type": "markdown",
   "id": "2c001774",
   "metadata": {},
   "source": [
    "# PassitOn Quotes"
   ]
  },
  {
   "cell_type": "code",
   "execution_count": 144,
   "id": "5175dcb8",
   "metadata": {},
   "outputs": [],
   "source": [
    "from datetime import datetime\n",
    "from bs4 import BeautifulSoup\n",
    "import requests\n",
    "import pytz"
   ]
  },
  {
   "cell_type": "markdown",
   "id": "9b233fa4",
   "metadata": {},
   "source": [
    "url = 'https://www.passiton.com/inspirational-quotes'"
   ]
  },
  {
   "cell_type": "code",
   "execution_count": 145,
   "id": "0e552de6",
   "metadata": {},
   "outputs": [
    {
     "data": {
      "text/plain": [
       "'Date: 23-Sep-21   Time:08-41-48'"
      ]
     },
     "execution_count": 145,
     "metadata": {},
     "output_type": "execute_result"
    }
   ],
   "source": [
    "format ='Date: %d-%b-%y   Time:%I-%M-%S'\n",
    "timezone = pytz.timezone('Asia/Kolkata')\n",
    "today = datetime.now(timezone)\n",
    "today = today.strftime(format)\n",
    "today"
   ]
  },
  {
   "cell_type": "code",
   "execution_count": null,
   "id": "af93f999",
   "metadata": {},
   "outputs": [],
   "source": []
  }
 ],
 "metadata": {
  "kernelspec": {
   "display_name": "Python 3 (ipykernel)",
   "language": "python",
   "name": "python3"
  },
  "language_info": {
   "codemirror_mode": {
    "name": "ipython",
    "version": 3
   },
   "file_extension": ".py",
   "mimetype": "text/x-python",
   "name": "python",
   "nbconvert_exporter": "python",
   "pygments_lexer": "ipython3",
   "version": "3.9.7"
  }
 },
 "nbformat": 4,
 "nbformat_minor": 5
}
